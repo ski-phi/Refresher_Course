{
  "nbformat": 4,
  "nbformat_minor": 0,
  "metadata": {
    "colab": {
      "provenance": []
    },
    "kernelspec": {
      "name": "python3",
      "display_name": "Python 3"
    },
    "language_info": {
      "name": "python"
    }
  },
  "cells": [
    {
      "cell_type": "markdown",
      "source": [
        "1. Write a program to read Celsius temperature and print equivalent Fahrenheit temperate on screen."
      ],
      "metadata": {
        "id": "p4q0QVuINf1e"
      }
    },
    {
      "cell_type": "code",
      "source": [
        "def tempconvert(dtemp):\n",
        "  ftemp = dtemp*(9/5)+32\n",
        "  return ftemp"
      ],
      "metadata": {
        "id": "PzE-WgXCNnKJ"
      },
      "execution_count": 4,
      "outputs": []
    },
    {
      "cell_type": "code",
      "source": [
        "tempconvert(0)"
      ],
      "metadata": {
        "colab": {
          "base_uri": "https://localhost:8080/"
        },
        "id": "N28bixJLOYT0",
        "outputId": "c173145b-bf21-40bf-e2f0-7ab720565f68"
      },
      "execution_count": 5,
      "outputs": [
        {
          "output_type": "execute_result",
          "data": {
            "text/plain": [
              "32.0"
            ]
          },
          "metadata": {},
          "execution_count": 5
        }
      ]
    },
    {
      "cell_type": "markdown",
      "source": [
        "2. Read radius of the circle from user and find the area and perimeter of it."
      ],
      "metadata": {
        "id": "SsHqf1RDOjmO"
      }
    },
    {
      "cell_type": "code",
      "source": [
        "def apcirc(r):\n",
        "  area_circ = 3.14*r*r\n",
        "  peri_circ = 2*3.14*r\n",
        "  print(\"Area of circle with radius\",r,\":\",area_circ)\n",
        "  print(\"Perimeter/Circumference of circle with radius\",r,\":\",peri_circ)"
      ],
      "metadata": {
        "id": "Yma_QpwrOpWy"
      },
      "execution_count": 8,
      "outputs": []
    },
    {
      "cell_type": "code",
      "source": [
        "apcirc(5)"
      ],
      "metadata": {
        "colab": {
          "base_uri": "https://localhost:8080/"
        },
        "id": "c6Q6RS7EPKpu",
        "outputId": "3c6967d4-c08a-4194-a0b3-491ec984e9ad"
      },
      "execution_count": 9,
      "outputs": [
        {
          "output_type": "stream",
          "name": "stdout",
          "text": [
            "Area of circle with radius 5 : 78.5\n",
            "Perimeter/Circumference of circle with radius 5 : 31.400000000000002\n"
          ]
        }
      ]
    },
    {
      "cell_type": "markdown",
      "source": [
        "3. Read the amount and percentage of interest from the keyboard and find final amount after adding interest in original amount."
      ],
      "metadata": {
        "id": "YxvMwsM1PUFK"
      }
    },
    {
      "cell_type": "code",
      "source": [
        "def calcInterest(start,interest):\n",
        "  total = start + ((interest/100)*start)\n",
        "  print(\"Amount:\",start,\"Interest(%):\",interest,\"Final Amount:\", total)"
      ],
      "metadata": {
        "id": "rzYoOku5Pcl1"
      },
      "execution_count": 12,
      "outputs": []
    },
    {
      "cell_type": "code",
      "source": [
        "calcInterest(1000,10)"
      ],
      "metadata": {
        "colab": {
          "base_uri": "https://localhost:8080/"
        },
        "id": "zXzpQtDQQTeE",
        "outputId": "6267a2ad-1448-4cf7-db7f-25491e1d88dc"
      },
      "execution_count": 13,
      "outputs": [
        {
          "output_type": "stream",
          "name": "stdout",
          "text": [
            "Amount: 1000 Interest(%): 10 Final Amount: 1100.0\n"
          ]
        }
      ]
    },
    {
      "cell_type": "markdown",
      "source": [
        "4. Write a program to read distance value in meters and convert it into centimeters, inches, and yards."
      ],
      "metadata": {
        "id": "maEwMbQbQdfi"
      }
    },
    {
      "cell_type": "code",
      "source": [
        "def distconv(distance):\n",
        "  cm_dist=distance*100\n",
        "  inch_dist=distance*39.37\n",
        "  yard_dist=distance*1.094\n",
        "  print(\"Distance in cms:\",cm_dist,\"Distance in inches:\",inch_dist,\"Distance in yards:\",yard_dist)"
      ],
      "metadata": {
        "id": "8AAwx7UbQk0Z"
      },
      "execution_count": 14,
      "outputs": []
    },
    {
      "cell_type": "code",
      "source": [
        "distconv(325)"
      ],
      "metadata": {
        "colab": {
          "base_uri": "https://localhost:8080/"
        },
        "id": "Qi-F4JmMRK9S",
        "outputId": "096f10c3-2b5a-4a45-cb86-2a402afd4843"
      },
      "execution_count": 15,
      "outputs": [
        {
          "output_type": "stream",
          "name": "stdout",
          "text": [
            "Distance in cms: 32500 Distance in inches: 12795.25 Distance in yards: 355.55\n"
          ]
        }
      ]
    },
    {
      "cell_type": "markdown",
      "source": [
        "5. Write a Python program to calculate profit or loss. Input is selling cost and actual cost of a product."
      ],
      "metadata": {
        "id": "jKDrZP-fRQdA"
      }
    },
    {
      "cell_type": "code",
      "source": [
        "def profitLoss(sp,cp):\n",
        "  diff=sp-cp\n",
        "  if diff<0:\n",
        "    print(\"Loss:\",diff*-1)\n",
        "  elif diff == 0:\n",
        "    print(\"Selling price and cost price are same\")\n",
        "  else:\n",
        "    print(\"Profit:\",diff)"
      ],
      "metadata": {
        "id": "AGrzCwgNRYhr"
      },
      "execution_count": 21,
      "outputs": []
    },
    {
      "cell_type": "code",
      "source": [
        "profitLoss(3456,4567)"
      ],
      "metadata": {
        "colab": {
          "base_uri": "https://localhost:8080/"
        },
        "id": "pFJBQ_TPeM-a",
        "outputId": "9d2c8199-26d1-4c0c-bce1-d53d4d634d9e"
      },
      "execution_count": 22,
      "outputs": [
        {
          "output_type": "stream",
          "name": "stdout",
          "text": [
            "Loss: 1111\n"
          ]
        }
      ]
    },
    {
      "cell_type": "code",
      "source": [
        "profitLoss(4567,3456)"
      ],
      "metadata": {
        "colab": {
          "base_uri": "https://localhost:8080/"
        },
        "id": "I3saIA8keU8N",
        "outputId": "af5a69f6-8ed9-4356-dda9-ed63f9dab18b"
      },
      "execution_count": 23,
      "outputs": [
        {
          "output_type": "stream",
          "name": "stdout",
          "text": [
            "Profit: 1111\n"
          ]
        }
      ]
    },
    {
      "cell_type": "code",
      "source": [
        "profitLoss(4567,4567)"
      ],
      "metadata": {
        "colab": {
          "base_uri": "https://localhost:8080/"
        },
        "id": "bs4HNvyveZS2",
        "outputId": "293891b8-cfa2-4ca2-9a13-daf40cb91624"
      },
      "execution_count": 24,
      "outputs": [
        {
          "output_type": "stream",
          "name": "stdout",
          "text": [
            "Selling price and cost price are same\n"
          ]
        }
      ]
    },
    {
      "cell_type": "markdown",
      "source": [
        "6. Write a program to input basic salary and find output of gross salary using\n",
        "following:\n",
        "\n",
        "DA = 75% of basic\n",
        "\n",
        "HRA = 20% of basic\n",
        "\n",
        "Conditions:\n",
        "\n",
        "Basic < 10000 : gross = da + basic\n",
        "\n",
        "Basic >= 10000 and < 20000 : gross = da + basic + 50% of hra\n",
        "\n",
        "Basic >= 20000 : gross = basic + da + hra\n",
        "\n",
        "Sample: Input and Output\n",
        "\n",
        "5000 : 3750 + 5000 = 8750\n",
        "\n",
        "12000 : 9000 + 12000 + 1200 = 22200\n",
        "\n",
        "24000 : 18000 + 24000 + 4800 = 46800"
      ],
      "metadata": {
        "id": "XYP1vPx5em80"
      }
    },
    {
      "cell_type": "code",
      "source": [
        "def SalCal(basic_sal):\n",
        "  da=0.75*basic_sal\n",
        "  hra=0.2*basic_sal\n",
        "  if basic_sal < 10000:\n",
        "    gross_sal= da + basic_sal\n",
        "  elif basic_sal >= 10000 and basic_sal < 20000:\n",
        "    gross_sal=da + basic_sal + 0.5*hra\n",
        "  else:\n",
        "    gross_sal=basic_sal + da + hra\n",
        "  print(\"Gross salary\")\n",
        "  return gross_sal"
      ],
      "metadata": {
        "id": "kO3uwJR7elsl"
      },
      "execution_count": 7,
      "outputs": []
    },
    {
      "cell_type": "code",
      "source": [
        "SalCal(9000)"
      ],
      "metadata": {
        "colab": {
          "base_uri": "https://localhost:8080/"
        },
        "id": "z00f4k-Ji9jm",
        "outputId": "c00af27d-19ee-421f-c35c-5b03a2405bc0"
      },
      "execution_count": 8,
      "outputs": [
        {
          "output_type": "stream",
          "name": "stdout",
          "text": [
            "Gross salary\n"
          ]
        },
        {
          "output_type": "execute_result",
          "data": {
            "text/plain": [
              "15750.0"
            ]
          },
          "metadata": {},
          "execution_count": 8
        }
      ]
    },
    {
      "cell_type": "code",
      "source": [
        "SalCal(11000)"
      ],
      "metadata": {
        "colab": {
          "base_uri": "https://localhost:8080/"
        },
        "id": "Fl1gRa04jFup",
        "outputId": "9a65004a-ed5d-41b2-9b5a-2fe1a7d9516a"
      },
      "execution_count": 9,
      "outputs": [
        {
          "output_type": "stream",
          "name": "stdout",
          "text": [
            "Gross salary\n"
          ]
        },
        {
          "output_type": "execute_result",
          "data": {
            "text/plain": [
              "20350.0"
            ]
          },
          "metadata": {},
          "execution_count": 9
        }
      ]
    },
    {
      "cell_type": "code",
      "source": [
        "SalCal(34000)"
      ],
      "metadata": {
        "colab": {
          "base_uri": "https://localhost:8080/"
        },
        "id": "8e1rSs8fjJZO",
        "outputId": "47c2f9fc-1003-45de-b566-f7ab69abb503"
      },
      "execution_count": 10,
      "outputs": [
        {
          "output_type": "stream",
          "name": "stdout",
          "text": [
            "Gross salary\n"
          ]
        },
        {
          "output_type": "execute_result",
          "data": {
            "text/plain": [
              "66300.0"
            ]
          },
          "metadata": {},
          "execution_count": 10
        }
      ]
    },
    {
      "cell_type": "markdown",
      "source": [
        "7. Write a program to read a number from user and find the factorial of the number.\n",
        "\n",
        "Example:\n",
        "\n",
        "Factorial for 5 = 5 x 4 x 3 x 2 x 1 = 120"
      ],
      "metadata": {
        "id": "l1G1x4dmjOwe"
      }
    },
    {
      "cell_type": "code",
      "source": [
        "# One method could be be importing the math library\n",
        "import math as m\n",
        "m.factorial(4)"
      ],
      "metadata": {
        "colab": {
          "base_uri": "https://localhost:8080/"
        },
        "id": "c-FVeO4ajbUY",
        "outputId": "1a5c9279-729d-4383-e75c-488b2a274611"
      },
      "execution_count": 33,
      "outputs": [
        {
          "output_type": "execute_result",
          "data": {
            "text/plain": [
              "24"
            ]
          },
          "metadata": {},
          "execution_count": 33
        }
      ]
    },
    {
      "cell_type": "markdown",
      "source": [
        "8. Write a program to read num1 and num2 from keyboard and find addition of all number between that range."
      ],
      "metadata": {
        "id": "J8r-CHvbj9D3"
      }
    },
    {
      "cell_type": "code",
      "source": [
        "def sum_of_all(num1,num2):\n",
        "  numbers=range(num1+1,num2)\n",
        "  sum_all=0\n",
        "  for i in numbers:\n",
        "    sum_all += i\n",
        "  return sum_all"
      ],
      "metadata": {
        "id": "pj8Xv8zIkmRS"
      },
      "execution_count": 43,
      "outputs": []
    },
    {
      "cell_type": "code",
      "source": [
        "sum_of_all(1,10)"
      ],
      "metadata": {
        "colab": {
          "base_uri": "https://localhost:8080/"
        },
        "id": "ZU5DdRZPlbkd",
        "outputId": "24eb2e37-3997-4cf2-97d5-606b77c3db43"
      },
      "execution_count": 44,
      "outputs": [
        {
          "output_type": "execute_result",
          "data": {
            "text/plain": [
              "44"
            ]
          },
          "metadata": {},
          "execution_count": 44
        }
      ]
    },
    {
      "cell_type": "markdown",
      "source": [
        "9. See the tuple given: num = (56,2,35,41,43,48,32,56,71,55,68)\n",
        "\n",
        "Write a program to create two lists from it where first list contains only even numbers and second will contain only odd numbers."
      ],
      "metadata": {
        "id": "dOq3Q37hmEiK"
      }
    },
    {
      "cell_type": "code",
      "source": [
        "num = (56,2,35,41,43,48,32,56,71,55,68)\n",
        "odd_num=[]\n",
        "even_num=[]\n",
        "for i in num:\n",
        "  if i%2==0:\n",
        "    even_num.append(i)\n",
        "  else:\n",
        "    odd_num.append(i)\n",
        "print(\"List of even numbers:\",even_num)\n",
        "print(\"List of odd numbers:\",odd_num)"
      ],
      "metadata": {
        "colab": {
          "base_uri": "https://localhost:8080/"
        },
        "id": "oLYYyIDdl-dJ",
        "outputId": "458175ac-c1b1-43fb-f77c-60fb06a344b9"
      },
      "execution_count": 46,
      "outputs": [
        {
          "output_type": "stream",
          "name": "stdout",
          "text": [
            "List of even numbers: [56, 2, 48, 32, 56, 68]\n",
            "List of odd numbers: [35, 41, 43, 71, 55]\n"
          ]
        }
      ]
    },
    {
      "cell_type": "markdown",
      "source": [
        "10. Write a program to read a number from user.\n",
        "\n",
        "Create and use a user defined function to check whether it is odd or even?"
      ],
      "metadata": {
        "id": "_cESOWfPmscY"
      }
    },
    {
      "cell_type": "code",
      "source": [
        "def check_num(n):\n",
        "  if n%2==0:\n",
        "    return n, \"is an EVEN number\"\n",
        "  elif n==0:\n",
        "    return n, \"is ZERO\"\n",
        "  else:\n",
        "    return n, \"is an ODD number\""
      ],
      "metadata": {
        "id": "M2CwWhPqlN_8"
      },
      "execution_count": 47,
      "outputs": []
    },
    {
      "cell_type": "code",
      "source": [
        "check_num(80)"
      ],
      "metadata": {
        "colab": {
          "base_uri": "https://localhost:8080/"
        },
        "id": "cEPOlutsnTKh",
        "outputId": "35cb3e63-99f0-4abb-c1c0-b0992470c6a9"
      },
      "execution_count": 48,
      "outputs": [
        {
          "output_type": "execute_result",
          "data": {
            "text/plain": [
              "(80, 'is an EVEN number')"
            ]
          },
          "metadata": {},
          "execution_count": 48
        }
      ]
    },
    {
      "cell_type": "markdown",
      "source": [
        "11. Write a program to read a number from user and find the square root, sin, tan, log and factorial of this number using math module."
      ],
      "metadata": {
        "id": "r0aDmvw0nc5Z"
      }
    },
    {
      "cell_type": "code",
      "source": [
        "import math as m\n",
        "def maths_cal(n1):\n",
        "  n1_sqrt = m.sqrt(n1)\n",
        "  n1_sin = m.sin(n1)\n",
        "  n1_tan = m.tan(n1)\n",
        "  n1_log = m.log(n1)\n",
        "  n1_factorial = m.factorial(n1)\n",
        "  return \"Square Root:\", n1_sqrt, \"Sine:\", n1_sin, \"Tan:\", n1_tan, \"Log:\", n1_log, \"Factorial:\", n1_factorial"
      ],
      "metadata": {
        "id": "SzyS1mrbngzB"
      },
      "execution_count": 54,
      "outputs": []
    },
    {
      "cell_type": "code",
      "source": [
        "maths_cal(25)"
      ],
      "metadata": {
        "colab": {
          "base_uri": "https://localhost:8080/"
        },
        "id": "upmK4mQHoTpw",
        "outputId": "5d2e5ba5-6fae-4ec9-d05a-1c5edf24e944"
      },
      "execution_count": 55,
      "outputs": [
        {
          "output_type": "execute_result",
          "data": {
            "text/plain": [
              "('Square Root:',\n",
              " 5.0,\n",
              " 'Sine:',\n",
              " -0.13235175009777303,\n",
              " 'Tan:',\n",
              " -0.13352640702153587,\n",
              " 'Log:',\n",
              " 3.2188758248682006,\n",
              " 'Factorial:',\n",
              " 15511210043330985984000000)"
            ]
          },
          "metadata": {},
          "execution_count": 55
        }
      ]
    },
    {
      "cell_type": "markdown",
      "source": [
        "12. Write a Python class named ‘Rectangle’ with two attributes length and width and a method named ‘calculate’ which will compute the area of a rectangle. Create an object to pass length and width and call the method to calculate the area of rectangle."
      ],
      "metadata": {
        "id": "I4qex1JcooVC"
      }
    },
    {
      "cell_type": "code",
      "source": [
        "class Rectangle:\n",
        "  def __init__(self, rect_len, rect_wid):\n",
        "    self.length = rect_len\n",
        "    self.width = rect_len\n",
        "  def calculate(self):\n",
        "    rect_area = self.length*self.width\n",
        "    print(\"Area of the rectangle:\", rect_area)"
      ],
      "metadata": {
        "id": "Fc5AQYlvonVo"
      },
      "execution_count": 56,
      "outputs": []
    },
    {
      "cell_type": "code",
      "source": [
        "sample1 = Rectangle(12,15)\n",
        "sample1.calculate()"
      ],
      "metadata": {
        "colab": {
          "base_uri": "https://localhost:8080/"
        },
        "id": "HFIAlpI9qEgp",
        "outputId": "56584cab-1adb-425a-e19f-20c9d1386606"
      },
      "execution_count": 57,
      "outputs": [
        {
          "output_type": "stream",
          "name": "stdout",
          "text": [
            "Area of the rectangle: 144\n"
          ]
        }
      ]
    },
    {
      "cell_type": "code",
      "source": [
        "import math as m\n",
        "help(m)"
      ],
      "metadata": {
        "colab": {
          "base_uri": "https://localhost:8080/"
        },
        "id": "W-4lpTdqFZaL",
        "outputId": "e814c904-98ce-43ed-9f72-90ba90bb72e9"
      },
      "execution_count": 2,
      "outputs": [
        {
          "output_type": "stream",
          "name": "stdout",
          "text": [
            "Help on built-in module math:\n",
            "\n",
            "NAME\n",
            "    math\n",
            "\n",
            "DESCRIPTION\n",
            "    This module provides access to the mathematical functions\n",
            "    defined by the C standard.\n",
            "\n",
            "FUNCTIONS\n",
            "    acos(x, /)\n",
            "        Return the arc cosine (measured in radians) of x.\n",
            "        \n",
            "        The result is between 0 and pi.\n",
            "    \n",
            "    acosh(x, /)\n",
            "        Return the inverse hyperbolic cosine of x.\n",
            "    \n",
            "    asin(x, /)\n",
            "        Return the arc sine (measured in radians) of x.\n",
            "        \n",
            "        The result is between -pi/2 and pi/2.\n",
            "    \n",
            "    asinh(x, /)\n",
            "        Return the inverse hyperbolic sine of x.\n",
            "    \n",
            "    atan(x, /)\n",
            "        Return the arc tangent (measured in radians) of x.\n",
            "        \n",
            "        The result is between -pi/2 and pi/2.\n",
            "    \n",
            "    atan2(y, x, /)\n",
            "        Return the arc tangent (measured in radians) of y/x.\n",
            "        \n",
            "        Unlike atan(y/x), the signs of both x and y are considered.\n",
            "    \n",
            "    atanh(x, /)\n",
            "        Return the inverse hyperbolic tangent of x.\n",
            "    \n",
            "    ceil(x, /)\n",
            "        Return the ceiling of x as an Integral.\n",
            "        \n",
            "        This is the smallest integer >= x.\n",
            "    \n",
            "    comb(n, k, /)\n",
            "        Number of ways to choose k items from n items without repetition and without order.\n",
            "        \n",
            "        Evaluates to n! / (k! * (n - k)!) when k <= n and evaluates\n",
            "        to zero when k > n.\n",
            "        \n",
            "        Also called the binomial coefficient because it is equivalent\n",
            "        to the coefficient of k-th term in polynomial expansion of the\n",
            "        expression (1 + x)**n.\n",
            "        \n",
            "        Raises TypeError if either of the arguments are not integers.\n",
            "        Raises ValueError if either of the arguments are negative.\n",
            "    \n",
            "    copysign(x, y, /)\n",
            "        Return a float with the magnitude (absolute value) of x but the sign of y.\n",
            "        \n",
            "        On platforms that support signed zeros, copysign(1.0, -0.0)\n",
            "        returns -1.0.\n",
            "    \n",
            "    cos(x, /)\n",
            "        Return the cosine of x (measured in radians).\n",
            "    \n",
            "    cosh(x, /)\n",
            "        Return the hyperbolic cosine of x.\n",
            "    \n",
            "    degrees(x, /)\n",
            "        Convert angle x from radians to degrees.\n",
            "    \n",
            "    dist(p, q, /)\n",
            "        Return the Euclidean distance between two points p and q.\n",
            "        \n",
            "        The points should be specified as sequences (or iterables) of\n",
            "        coordinates.  Both inputs must have the same dimension.\n",
            "        \n",
            "        Roughly equivalent to:\n",
            "            sqrt(sum((px - qx) ** 2.0 for px, qx in zip(p, q)))\n",
            "    \n",
            "    erf(x, /)\n",
            "        Error function at x.\n",
            "    \n",
            "    erfc(x, /)\n",
            "        Complementary error function at x.\n",
            "    \n",
            "    exp(x, /)\n",
            "        Return e raised to the power of x.\n",
            "    \n",
            "    expm1(x, /)\n",
            "        Return exp(x)-1.\n",
            "        \n",
            "        This function avoids the loss of precision involved in the direct evaluation of exp(x)-1 for small x.\n",
            "    \n",
            "    fabs(x, /)\n",
            "        Return the absolute value of the float x.\n",
            "    \n",
            "    factorial(x, /)\n",
            "        Find x!.\n",
            "        \n",
            "        Raise a ValueError if x is negative or non-integral.\n",
            "    \n",
            "    floor(x, /)\n",
            "        Return the floor of x as an Integral.\n",
            "        \n",
            "        This is the largest integer <= x.\n",
            "    \n",
            "    fmod(x, y, /)\n",
            "        Return fmod(x, y), according to platform C.\n",
            "        \n",
            "        x % y may differ.\n",
            "    \n",
            "    frexp(x, /)\n",
            "        Return the mantissa and exponent of x, as pair (m, e).\n",
            "        \n",
            "        m is a float and e is an int, such that x = m * 2.**e.\n",
            "        If x is 0, m and e are both 0.  Else 0.5 <= abs(m) < 1.0.\n",
            "    \n",
            "    fsum(seq, /)\n",
            "        Return an accurate floating point sum of values in the iterable seq.\n",
            "        \n",
            "        Assumes IEEE-754 floating point arithmetic.\n",
            "    \n",
            "    gamma(x, /)\n",
            "        Gamma function at x.\n",
            "    \n",
            "    gcd(*integers)\n",
            "        Greatest Common Divisor.\n",
            "    \n",
            "    hypot(...)\n",
            "        hypot(*coordinates) -> value\n",
            "        \n",
            "        Multidimensional Euclidean distance from the origin to a point.\n",
            "        \n",
            "        Roughly equivalent to:\n",
            "            sqrt(sum(x**2 for x in coordinates))\n",
            "        \n",
            "        For a two dimensional point (x, y), gives the hypotenuse\n",
            "        using the Pythagorean theorem:  sqrt(x*x + y*y).\n",
            "        \n",
            "        For example, the hypotenuse of a 3/4/5 right triangle is:\n",
            "        \n",
            "            >>> hypot(3.0, 4.0)\n",
            "            5.0\n",
            "    \n",
            "    isclose(a, b, *, rel_tol=1e-09, abs_tol=0.0)\n",
            "        Determine whether two floating point numbers are close in value.\n",
            "        \n",
            "          rel_tol\n",
            "            maximum difference for being considered \"close\", relative to the\n",
            "            magnitude of the input values\n",
            "          abs_tol\n",
            "            maximum difference for being considered \"close\", regardless of the\n",
            "            magnitude of the input values\n",
            "        \n",
            "        Return True if a is close in value to b, and False otherwise.\n",
            "        \n",
            "        For the values to be considered close, the difference between them\n",
            "        must be smaller than at least one of the tolerances.\n",
            "        \n",
            "        -inf, inf and NaN behave similarly to the IEEE 754 Standard.  That\n",
            "        is, NaN is not close to anything, even itself.  inf and -inf are\n",
            "        only close to themselves.\n",
            "    \n",
            "    isfinite(x, /)\n",
            "        Return True if x is neither an infinity nor a NaN, and False otherwise.\n",
            "    \n",
            "    isinf(x, /)\n",
            "        Return True if x is a positive or negative infinity, and False otherwise.\n",
            "    \n",
            "    isnan(x, /)\n",
            "        Return True if x is a NaN (not a number), and False otherwise.\n",
            "    \n",
            "    isqrt(n, /)\n",
            "        Return the integer part of the square root of the input.\n",
            "    \n",
            "    lcm(*integers)\n",
            "        Least Common Multiple.\n",
            "    \n",
            "    ldexp(x, i, /)\n",
            "        Return x * (2**i).\n",
            "        \n",
            "        This is essentially the inverse of frexp().\n",
            "    \n",
            "    lgamma(x, /)\n",
            "        Natural logarithm of absolute value of Gamma function at x.\n",
            "    \n",
            "    log(...)\n",
            "        log(x, [base=math.e])\n",
            "        Return the logarithm of x to the given base.\n",
            "        \n",
            "        If the base not specified, returns the natural logarithm (base e) of x.\n",
            "    \n",
            "    log10(x, /)\n",
            "        Return the base 10 logarithm of x.\n",
            "    \n",
            "    log1p(x, /)\n",
            "        Return the natural logarithm of 1+x (base e).\n",
            "        \n",
            "        The result is computed in a way which is accurate for x near zero.\n",
            "    \n",
            "    log2(x, /)\n",
            "        Return the base 2 logarithm of x.\n",
            "    \n",
            "    modf(x, /)\n",
            "        Return the fractional and integer parts of x.\n",
            "        \n",
            "        Both results carry the sign of x and are floats.\n",
            "    \n",
            "    nextafter(x, y, /)\n",
            "        Return the next floating-point value after x towards y.\n",
            "    \n",
            "    perm(n, k=None, /)\n",
            "        Number of ways to choose k items from n items without repetition and with order.\n",
            "        \n",
            "        Evaluates to n! / (n - k)! when k <= n and evaluates\n",
            "        to zero when k > n.\n",
            "        \n",
            "        If k is not specified or is None, then k defaults to n\n",
            "        and the function returns n!.\n",
            "        \n",
            "        Raises TypeError if either of the arguments are not integers.\n",
            "        Raises ValueError if either of the arguments are negative.\n",
            "    \n",
            "    pow(x, y, /)\n",
            "        Return x**y (x to the power of y).\n",
            "    \n",
            "    prod(iterable, /, *, start=1)\n",
            "        Calculate the product of all the elements in the input iterable.\n",
            "        \n",
            "        The default start value for the product is 1.\n",
            "        \n",
            "        When the iterable is empty, return the start value.  This function is\n",
            "        intended specifically for use with numeric values and may reject\n",
            "        non-numeric types.\n",
            "    \n",
            "    radians(x, /)\n",
            "        Convert angle x from degrees to radians.\n",
            "    \n",
            "    remainder(x, y, /)\n",
            "        Difference between x and the closest integer multiple of y.\n",
            "        \n",
            "        Return x - n*y where n*y is the closest integer multiple of y.\n",
            "        In the case where x is exactly halfway between two multiples of\n",
            "        y, the nearest even value of n is used. The result is always exact.\n",
            "    \n",
            "    sin(x, /)\n",
            "        Return the sine of x (measured in radians).\n",
            "    \n",
            "    sinh(x, /)\n",
            "        Return the hyperbolic sine of x.\n",
            "    \n",
            "    sqrt(x, /)\n",
            "        Return the square root of x.\n",
            "    \n",
            "    tan(x, /)\n",
            "        Return the tangent of x (measured in radians).\n",
            "    \n",
            "    tanh(x, /)\n",
            "        Return the hyperbolic tangent of x.\n",
            "    \n",
            "    trunc(x, /)\n",
            "        Truncates the Real x to the nearest Integral toward 0.\n",
            "        \n",
            "        Uses the __trunc__ magic method.\n",
            "    \n",
            "    ulp(x, /)\n",
            "        Return the value of the least significant bit of the float x.\n",
            "\n",
            "DATA\n",
            "    e = 2.718281828459045\n",
            "    inf = inf\n",
            "    nan = nan\n",
            "    pi = 3.141592653589793\n",
            "    tau = 6.283185307179586\n",
            "\n",
            "FILE\n",
            "    (built-in)\n",
            "\n",
            "\n"
          ]
        }
      ]
    }
  ]
}